{
  "nbformat": 4,
  "nbformat_minor": 0,
  "metadata": {
    "colab": {
      "name": "Boosting.ipynb",
      "provenance": []
    },
    "kernelspec": {
      "name": "python3",
      "display_name": "Python 3"
    },
    "language_info": {
      "name": "python"
    }
  },
  "cells": [
    {
      "cell_type": "code",
      "metadata": {
        "colab": {
          "base_uri": "https://localhost:8080/",
          "height": 129
        },
        "id": "fshR0TiAD-7q",
        "outputId": "2da42111-3167-45f7-dccb-ea2fd67f63b7"
      },
      "source": [
        "# Adaboost\n",
        "# importando os pacotes\n",
        "import pandas as pd\n",
        "import numpy as np\n",
        "from sklearn.ensemble import AdaBoostClassifier\n",
        "from sklearn.tree import DecisionTreeClassifier\n",
        "from sklearn.datasets import load_breast_cancer\n",
        "from sklearn.model_selection import train_test_split\n",
        "from sklearn.metrics import confusion_matrix, accuracy_score\n",
        "from sklearn.preprocessing import LabelEncoder\n",
        "\n",
        "breast_cancer = load_breast_cancer()\n",
        "\n",
        "\n",
        "\n",
        "X = pd.DataFrame(breast_cancer.data, columns= breast_cancer.feature_names)\n",
        "y = pd.Categorical.from_codes(breast_cancer.target, breast_cancer.target_names                           \n",
        "\n",
        "\n",
        "encoder = LabelEncoder\n",
        "binary_encoded_y = pd.Series(encoder.fit_transform(y))\n",
        "\n",
        "train_X, test_X, train_y, test_y = train_test_split(X, binary_enconded_y, random_state=1) \n",
        "\n",
        "classifier = AdoBoostClassifier(DecisionTreeClassifier(max_depht=1), n_estimators= 200)\n",
        "classifier.fit(train_X, train_y)\n",
        "\n",
        "prediction = classifier.predict(test_X)\n",
        "\n",
        "confusion_matrix(test_y, prediction)\n",
        "\n",
        "accuracy = accuracy_score(test_y, prediction)\n",
        "print('AdaBoost Accuracy:', accuracy)\n",
        "                                "
      ],
      "execution_count": 37,
      "outputs": [
        {
          "output_type": "error",
          "ename": "SyntaxError",
          "evalue": "ignored",
          "traceback": [
            "\u001b[0;36m  File \u001b[0;32m\"<ipython-input-37-134900abc20e>\"\u001b[0;36m, line \u001b[0;32m20\u001b[0m\n\u001b[0;31m    encoder = LabelEncoder\u001b[0m\n\u001b[0m          ^\u001b[0m\n\u001b[0;31mSyntaxError\u001b[0m\u001b[0;31m:\u001b[0m invalid syntax\n"
          ]
        }
      ]
    },
    {
      "cell_type": "code",
      "metadata": {
        "id": "ZeY1sur7Rf5B"
      },
      "source": [
        ""
      ],
      "execution_count": null,
      "outputs": []
    }
  ]
}